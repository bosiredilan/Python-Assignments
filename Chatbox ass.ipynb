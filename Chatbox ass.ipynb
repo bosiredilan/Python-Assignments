{
 "cells": [
  {
   "cell_type": "markdown",
   "id": "41856963",
   "metadata": {},
   "source": [
    "# Write a program chatbot that uses a while loop to answer questions about data science and AI"
   ]
  },
  {
   "cell_type": "code",
   "execution_count": null,
   "id": "d17d4130",
   "metadata": {},
   "outputs": [
    {
     "name": "stdout",
     "output_type": "stream",
     "text": [
      "Hello! I'm your Data Science & AI Chatbot. Ask me anything or type 'exit' to quit.\n",
      "Chatbot: Data Science is the field of study that uses scientific methods, processes, algorithms, and systems to extract knowledge and insights from structured and unstructured data.\n",
      "Chatbot: Machine Learning is a subset of AI that allows systems to learn and improve from experience without being explicitly programmed.\n",
      "Chatbot: Sorry, I don't know the answer to that. Try asking another question about Data Science or AI.\n",
      "Chatbot: Goodbye! Keep exploring Data Science and AI.\n"
     ]
    }
   ],
   "source": [
    "print(\"Hello! I'm your Data Science & AI Chatbot. Ask me anything or type 'exit' to quit.\")\n",
    "\n",
    "# Dictionary of questions and answers\n",
    "questions_dict = {\n",
    "    \"what is data science\": \"Data Science is the field of study that uses scientific methods, processes, algorithms, and systems to extract knowledge and insights from structured and unstructured data.\",\n",
    "    \"what is ai\": \"Artificial Intelligence (AI) is the simulation of human intelligence in machines that are programmed to think and learn.\",\n",
    "    \"what is machine learning\": \"Machine Learning is a subset of AI that allows systems to learn and improve from experience without being explicitly programmed.\",\n",
    "    \"what is deep learning\": \"Deep Learning is a subset of machine learning that uses neural networks with many layers to model complex patterns in data.\",\n",
    "    \"what is data visualization\": \"Data Visualization is the graphical representation of data to help people understand patterns, trends, and insights.\",\n",
    "    \"what tools are used in data science\": \"Common tools include Python, R, SQL, Tableau, Power BI, and machine learning libraries like Scikit-learn, TensorFlow, and PyTorch.\",\n",
    "    \"What is a data pipeline\":\"A data pipeline is the process of moving data from source systems to storage/analysis tools. It includes extraction, transformation, and loading (ETL).\",\n",
    "    \"What is data mining\":\"Data mining is the process of discovering patterns and relationships in large datasets using techniques from statistics, AI, and machine learning.\",\n",
    "    \"What is the difference between data cleaning and data wrangling\":\"Data cleaning: Fixing errors (e.g., typos, missing values),Data wrangling: Transforming raw data into a usable format, which includes cleaning but also reshaping and enriching data.\",\n",
    "    \"What is data normalization\":\"Normalization is the process of organizing data in a database to reduce redundancy and improve consistency.\",\n",
    "    \"What is the difference between a database and a data warehouse\":\"Database: Stores current, detailed data for day-to-day operations, Data warehouse: Stores large amounts of historical data optimized for analysis and reporting.\",\n",
    "    \"What is big data\":\"Big data refers to extremely large datasets that can’t be managed with traditional tools.\",\n",
    "    \"what is data\":\"Data is raw facts, figures, or information that on its own may not have meaning until it is processed, organized, or analyzed.\"\n",
    "}\n",
    "\n",
    "while True:\n",
    "    input_val = input(\"\\nYou: \").lower()   # Take input and convert to lowercase\n",
    "\n",
    "    if input_val == \"exit\":\n",
    "        print(\"Chatbot: Goodbye! Keep exploring Data Science and AI.\")\n",
    "        break\n",
    "    elif input_val in questions_dict:\n",
    "        print(\"Chatbot:\", questions_dict[input_val])\n",
    "    else:\n",
    "        print(\"Chatbot: Sorry, I don't know the answer to that. Try asking another question about Data Science or AI.\")\n"
   ]
  },
  {
   "cell_type": "markdown",
   "id": "e8e38bdb",
   "metadata": {},
   "source": [
    "# List prime numbers in comprehension loops"
   ]
  },
  {
   "cell_type": "code",
   "execution_count": 10,
   "id": "c768a6ec",
   "metadata": {},
   "outputs": [
    {
     "name": "stdout",
     "output_type": "stream",
     "text": [
      "Prime numbers from 2 to 100: [2, 3, 5, 7, 11, 13, 17, 19, 23, 29, 31, 37, 41, 43, 47, 53, 59, 61, 67, 71, 73, 79, 83, 89, 97]\n"
     ]
    }
   ],
   "source": [
    "\n",
    "prime_nums = [n for n in range(2, 101) if all(n % i != 0 for i in range(2, int(n**0.5)+1))]\n",
    "\n",
    "print(\"Prime numbers from 2 to 100:\", prime_nums)\n",
    "# range(2, 101) generates numbers from 2 to 100.\n",
    "# all(n % i != 0 for i in range(2, int(n**0.5)+1)) checks if n is divisible by any number from 2 up to the square root of n."
   ]
  },
  {
   "cell_type": "markdown",
   "id": "3691dbd4",
   "metadata": {},
   "source": [
    "# Write a python function that checks if a number is even or odd"
   ]
  },
  {
   "cell_type": "code",
   "execution_count": 17,
   "id": "45bcb9d2",
   "metadata": {},
   "outputs": [],
   "source": [
    "# normal function\n",
    "def check_even_odd(num):\n",
    "    if num % 2 == 0:\n",
    "        return \"Even\"\n",
    "    else:\n",
    "        return \"Odd\"\n",
    "\n",
    "\n"
   ]
  },
  {
   "cell_type": "code",
   "execution_count": 23,
   "id": "61792f6b",
   "metadata": {},
   "outputs": [
    {
     "data": {
      "text/plain": [
       "'Even'"
      ]
     },
     "execution_count": 23,
     "metadata": {},
     "output_type": "execute_result"
    }
   ],
   "source": [
    "check_even_odd(10)\n"
   ]
  },
  {
   "cell_type": "code",
   "execution_count": 21,
   "id": "45278442",
   "metadata": {},
   "outputs": [],
   "source": [
    "# lambda function\n",
    "\n",
    "check_even_odd_lambda = lambda num: \"Even\" if num % 2 == 0 else \"Odd\""
   ]
  },
  {
   "cell_type": "code",
   "execution_count": 22,
   "id": "8682e353",
   "metadata": {},
   "outputs": [
    {
     "data": {
      "text/plain": [
       "'Even'"
      ]
     },
     "execution_count": 22,
     "metadata": {},
     "output_type": "execute_result"
    }
   ],
   "source": [
    "check_even_odd_lambda(10)"
   ]
  },
  {
   "cell_type": "markdown",
   "id": "a9b9bd1a",
   "metadata": {},
   "source": [
    "# Write a code that breaks after the third fruit"
   ]
  },
  {
   "cell_type": "code",
   "execution_count": 25,
   "id": "b8d3a692",
   "metadata": {},
   "outputs": [
    {
     "name": "stdout",
     "output_type": "stream",
     "text": [
      "Fruit 1: mango\n",
      "Fruit 2: apple\n",
      "Fruit 3: orange\n",
      "Reached the third fruit.\n"
     ]
    }
   ],
   "source": [
    "fruits = [\"mango\",\"apple\",\"orange\",\"pineapple\",\"watermelon\"]  # List of fruits\n",
    "# Loop through fruits and stop at the third one\n",
    "for index, fruit in enumerate(fruits, start=1):\n",
    "    print(f\"Fruit {index}: {fruit}\")\n",
    "    if index == 3:\n",
    "        print(\"Reached the third fruit.\")\n",
    "        break\n"
   ]
  }
 ],
 "metadata": {
  "kernelspec": {
   "display_name": "Python 3",
   "language": "python",
   "name": "python3"
  },
  "language_info": {
   "codemirror_mode": {
    "name": "ipython",
    "version": 3
   },
   "file_extension": ".py",
   "mimetype": "text/x-python",
   "name": "python",
   "nbconvert_exporter": "python",
   "pygments_lexer": "ipython3",
   "version": "3.12.10"
  }
 },
 "nbformat": 4,
 "nbformat_minor": 5
}
